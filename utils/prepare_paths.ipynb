{
 "cells": [
  {
   "attachments": {},
   "cell_type": "markdown",
   "metadata": {},
   "source": [
    "# About\n",
    "\n",
    "This code is for creating a file that contains paths of single 3D image from per subject in order to utilize FreeSurfer for skull-stripping.\n",
    "We aim to decrease manual time spend to retrieve patients' stripped brain images.\n",
    "\n",
    "-> The main idea of ours, using 1 MRI result from every subject. This requires file processing because every subject has more than one sample that we do not desperately need. For this task, our purpose is not finding progress existence for particular subject.<br/>\n",
    "-> In fact, in some cases, having additional results can also be considered a natural increase in data. However, we need to reduce pointless labor as much as possible to accomplish the task.\n",
    "\n",
    "Moreover, train-test will be splitted in proper way. This is one of the crucial parts of the entire task."
   ]
  },
  {
   "cell_type": "code",
   "execution_count": 108,
   "metadata": {},
   "outputs": [],
   "source": [
    "import os\n",
    "from pathlib import Path \n",
    "from nibabel.testing import data_path\n",
    "import nibabel as nib\n",
    "\n",
    "import numpy as np\n",
    "import pandas as pd\n",
    "\n",
    "import matplotlib.pyplot as plt\n",
    "from matplotlib.pyplot import figure\n",
    "\n",
    "from sklearn.model_selection import train_test_split"
   ]
  },
  {
   "cell_type": "code",
   "execution_count": 145,
   "metadata": {},
   "outputs": [],
   "source": [
    "class utils:\n",
    "\n",
    "    def __init__(self):\n",
    "        return\n",
    "\n",
    "    def read_image(self, img_path):\n",
    "        return nib.load(os.path.join(data_path, img_path)).get_fdata()\n",
    "    \n",
    "    ''' Find image in the given path '''\n",
    "    def take_mri(self, patient_id, path):\n",
    "        for root, dirs, files in os.walk(path):\n",
    "            if patient_id in root:\n",
    "                for file in files:\n",
    "                    if file.endswith(\".nii\"):\n",
    "                        return os.path.join(root, file)\n",
    "           \n",
    "\n",
    "    def create_train_test(self, x, y, path):\n",
    "        x_train, x_test, y_train, y_test = train_test_split(x, y, stratify=y, test_size=0.3, random_state=42)\n",
    "        \n",
    "        df_train = pd.DataFrame(); df_test = pd.DataFrame()\n",
    "\n",
    "        df_train['subject'] = x_train; df_train['type'] = y_train\n",
    "        df_test['subject'] = x_test; df_test['type'] = y_test\n",
    "    \n",
    "        train_path = Path(path+'train/train.csv')\n",
    "        test_path = Path(path+'test/test.csv')  \n",
    "\n",
    "        train_path.parent.mkdir(parents= True, exist_ok=True)\n",
    "        test_path.parent.mkdir(parents= True, exist_ok=True)\n",
    "\n",
    "        if not os.path.exists(train_path):\n",
    "            df_train.to_csv(train_path, index=False)\n",
    "        else:\n",
    "            print(\"Train .csv file is already exist.\")\n",
    "        if not os.path.exists(test_path):\n",
    "            df_test.to_csv(test_path, index=False)\n",
    "        else:\n",
    "            print(\"Test .csv file is already exist.\")\n",
    "\n",
    "\n",
    "    def create_in_out_paths(self, data, path, mode):\n",
    "        input_paths = []\n",
    "        output_paths = []\n",
    "\n",
    "        for i in range(len(data['subject'])):\n",
    "            subject = data['subject'][i]\n",
    "            input_paths.append(self.take_mri(subject, path))\n",
    "            mri_date = input_paths[i].rsplit('/', 5)[3][:-11] # takes retrive date from file path\n",
    "            output_paths.append(os.path.join(path, mode, f'{subject}-{mri_date}.nii'))\n",
    "        \n",
    "        return input_paths, output_paths\n",
    "\n",
    "    "
   ]
  },
  {
   "cell_type": "code",
   "execution_count": 146,
   "metadata": {},
   "outputs": [],
   "source": [
    "u = utils()"
   ]
  },
  {
   "cell_type": "code",
   "execution_count": 111,
   "metadata": {},
   "outputs": [],
   "source": [
    "path = '/Users/toygar/Desktop/Bitirme/data/'\n",
    "file = 'ADNI1_Complete_3Yr_1.5T_1_22_2023.csv'"
   ]
  },
  {
   "cell_type": "code",
   "execution_count": 112,
   "metadata": {},
   "outputs": [],
   "source": [
    "data = pd.read_csv(os.path.join(path, file))"
   ]
  },
  {
   "cell_type": "code",
   "execution_count": 113,
   "metadata": {},
   "outputs": [
    {
     "data": {
      "text/plain": [
       "MCI    148\n",
       "CN     135\n",
       "AD      99\n",
       "Name: top, dtype: int64"
      ]
     },
     "execution_count": 113,
     "metadata": {},
     "output_type": "execute_result"
    }
   ],
   "source": [
    "df = data.groupby(['Subject'])['Group'].describe()\n",
    "df['top'].value_counts()"
   ]
  },
  {
   "cell_type": "code",
   "execution_count": 114,
   "metadata": {},
   "outputs": [],
   "source": [
    "df.rename(columns={'top': 'type', 'count':'img_count'}, inplace=True)\n",
    "df.drop(['unique', 'freq'], axis=1, inplace=True)"
   ]
  },
  {
   "cell_type": "code",
   "execution_count": 115,
   "metadata": {},
   "outputs": [],
   "source": [
    "x = np.array(df.index)   # unique subject id\n",
    "y = np.array(df['type']) # label"
   ]
  },
  {
   "cell_type": "code",
   "execution_count": 116,
   "metadata": {},
   "outputs": [
    {
     "data": {
      "text/html": [
       "<div>\n",
       "<style scoped>\n",
       "    .dataframe tbody tr th:only-of-type {\n",
       "        vertical-align: middle;\n",
       "    }\n",
       "\n",
       "    .dataframe tbody tr th {\n",
       "        vertical-align: top;\n",
       "    }\n",
       "\n",
       "    .dataframe thead th {\n",
       "        text-align: right;\n",
       "    }\n",
       "</style>\n",
       "<table border=\"1\" class=\"dataframe\">\n",
       "  <thead>\n",
       "    <tr style=\"text-align: right;\">\n",
       "      <th></th>\n",
       "      <th>img_count</th>\n",
       "      <th>type</th>\n",
       "    </tr>\n",
       "    <tr>\n",
       "      <th>Subject</th>\n",
       "      <th></th>\n",
       "      <th></th>\n",
       "    </tr>\n",
       "  </thead>\n",
       "  <tbody>\n",
       "    <tr>\n",
       "      <th>002_S_0295</th>\n",
       "      <td>7</td>\n",
       "      <td>CN</td>\n",
       "    </tr>\n",
       "    <tr>\n",
       "      <th>002_S_0413</th>\n",
       "      <td>7</td>\n",
       "      <td>CN</td>\n",
       "    </tr>\n",
       "    <tr>\n",
       "      <th>002_S_0619</th>\n",
       "      <td>5</td>\n",
       "      <td>AD</td>\n",
       "    </tr>\n",
       "    <tr>\n",
       "      <th>002_S_0685</th>\n",
       "      <td>6</td>\n",
       "      <td>CN</td>\n",
       "    </tr>\n",
       "    <tr>\n",
       "      <th>002_S_0729</th>\n",
       "      <td>7</td>\n",
       "      <td>MCI</td>\n",
       "    </tr>\n",
       "    <tr>\n",
       "      <th>...</th>\n",
       "      <td>...</td>\n",
       "      <td>...</td>\n",
       "    </tr>\n",
       "    <tr>\n",
       "      <th>137_S_0994</th>\n",
       "      <td>6</td>\n",
       "      <td>MCI</td>\n",
       "    </tr>\n",
       "    <tr>\n",
       "      <th>137_S_1041</th>\n",
       "      <td>4</td>\n",
       "      <td>AD</td>\n",
       "    </tr>\n",
       "    <tr>\n",
       "      <th>137_S_1414</th>\n",
       "      <td>6</td>\n",
       "      <td>MCI</td>\n",
       "    </tr>\n",
       "    <tr>\n",
       "      <th>941_S_1194</th>\n",
       "      <td>5</td>\n",
       "      <td>CN</td>\n",
       "    </tr>\n",
       "    <tr>\n",
       "      <th>941_S_1202</th>\n",
       "      <td>5</td>\n",
       "      <td>CN</td>\n",
       "    </tr>\n",
       "  </tbody>\n",
       "</table>\n",
       "<p>382 rows × 2 columns</p>\n",
       "</div>"
      ],
      "text/plain": [
       "           img_count type\n",
       "Subject                  \n",
       "002_S_0295         7   CN\n",
       "002_S_0413         7   CN\n",
       "002_S_0619         5   AD\n",
       "002_S_0685         6   CN\n",
       "002_S_0729         7  MCI\n",
       "...              ...  ...\n",
       "137_S_0994         6  MCI\n",
       "137_S_1041         4   AD\n",
       "137_S_1414         6  MCI\n",
       "941_S_1194         5   CN\n",
       "941_S_1202         5   CN\n",
       "\n",
       "[382 rows x 2 columns]"
      ]
     },
     "execution_count": 116,
     "metadata": {},
     "output_type": "execute_result"
    }
   ],
   "source": [
    "df"
   ]
  },
  {
   "cell_type": "code",
   "execution_count": 117,
   "metadata": {},
   "outputs": [
    {
     "data": {
      "text/plain": [
       "Index(['002_S_0295', '002_S_0413', '002_S_0619', '002_S_0685', '002_S_0729',\n",
       "       '002_S_0782', '002_S_0938', '002_S_1018', '002_S_1070', '002_S_1155',\n",
       "       ...\n",
       "       '137_S_0722', '137_S_0796', '137_S_0800', '137_S_0972', '137_S_0973',\n",
       "       '137_S_0994', '137_S_1041', '137_S_1414', '941_S_1194', '941_S_1202'],\n",
       "      dtype='object', name='Subject', length=382)"
      ]
     },
     "execution_count": 117,
     "metadata": {},
     "output_type": "execute_result"
    }
   ],
   "source": [
    "# all unique subjects can be found in this array to utilize\n",
    "df.index"
   ]
  },
  {
   "cell_type": "code",
   "execution_count": 136,
   "metadata": {},
   "outputs": [
    {
     "name": "stdout",
     "output_type": "stream",
     "text": [
      "Train .csv file is already exist.\n",
      "Test .csv file is already exist.\n"
     ]
    }
   ],
   "source": [
    "u.create_train_test(x, y, path)"
   ]
  },
  {
   "attachments": {},
   "cell_type": "markdown",
   "metadata": {},
   "source": [
    "## Check train and test csv files if correctly seperated"
   ]
  },
  {
   "cell_type": "code",
   "execution_count": 139,
   "metadata": {},
   "outputs": [],
   "source": [
    "train = pd.read_csv(os.path.join(path, 'train/train.csv'))\n",
    "test = pd.read_csv(os.path.join(path, 'test/test.csv'))"
   ]
  },
  {
   "cell_type": "code",
   "execution_count": 140,
   "metadata": {},
   "outputs": [
    {
     "data": {
      "text/html": [
       "<div>\n",
       "<style scoped>\n",
       "    .dataframe tbody tr th:only-of-type {\n",
       "        vertical-align: middle;\n",
       "    }\n",
       "\n",
       "    .dataframe tbody tr th {\n",
       "        vertical-align: top;\n",
       "    }\n",
       "\n",
       "    .dataframe thead th {\n",
       "        text-align: right;\n",
       "    }\n",
       "</style>\n",
       "<table border=\"1\" class=\"dataframe\">\n",
       "  <thead>\n",
       "    <tr style=\"text-align: right;\">\n",
       "      <th></th>\n",
       "      <th>subject</th>\n",
       "      <th>type</th>\n",
       "    </tr>\n",
       "  </thead>\n",
       "  <tbody>\n",
       "    <tr>\n",
       "      <th>0</th>\n",
       "      <td>027_S_0404</td>\n",
       "      <td>AD</td>\n",
       "    </tr>\n",
       "    <tr>\n",
       "      <th>1</th>\n",
       "      <td>022_S_0130</td>\n",
       "      <td>CN</td>\n",
       "    </tr>\n",
       "    <tr>\n",
       "      <th>2</th>\n",
       "      <td>033_S_1098</td>\n",
       "      <td>CN</td>\n",
       "    </tr>\n",
       "    <tr>\n",
       "      <th>3</th>\n",
       "      <td>007_S_0249</td>\n",
       "      <td>MCI</td>\n",
       "    </tr>\n",
       "    <tr>\n",
       "      <th>4</th>\n",
       "      <td>098_S_0172</td>\n",
       "      <td>CN</td>\n",
       "    </tr>\n",
       "    <tr>\n",
       "      <th>...</th>\n",
       "      <td>...</td>\n",
       "      <td>...</td>\n",
       "    </tr>\n",
       "    <tr>\n",
       "      <th>262</th>\n",
       "      <td>123_S_1300</td>\n",
       "      <td>MCI</td>\n",
       "    </tr>\n",
       "    <tr>\n",
       "      <th>263</th>\n",
       "      <td>037_S_0303</td>\n",
       "      <td>CN</td>\n",
       "    </tr>\n",
       "    <tr>\n",
       "      <th>264</th>\n",
       "      <td>005_S_0221</td>\n",
       "      <td>AD</td>\n",
       "    </tr>\n",
       "    <tr>\n",
       "      <th>265</th>\n",
       "      <td>053_S_0507</td>\n",
       "      <td>MCI</td>\n",
       "    </tr>\n",
       "    <tr>\n",
       "      <th>266</th>\n",
       "      <td>068_S_0473</td>\n",
       "      <td>CN</td>\n",
       "    </tr>\n",
       "  </tbody>\n",
       "</table>\n",
       "<p>267 rows × 2 columns</p>\n",
       "</div>"
      ],
      "text/plain": [
       "        subject type\n",
       "0    027_S_0404   AD\n",
       "1    022_S_0130   CN\n",
       "2    033_S_1098   CN\n",
       "3    007_S_0249  MCI\n",
       "4    098_S_0172   CN\n",
       "..          ...  ...\n",
       "262  123_S_1300  MCI\n",
       "263  037_S_0303   CN\n",
       "264  005_S_0221   AD\n",
       "265  053_S_0507  MCI\n",
       "266  068_S_0473   CN\n",
       "\n",
       "[267 rows x 2 columns]"
      ]
     },
     "execution_count": 140,
     "metadata": {},
     "output_type": "execute_result"
    }
   ],
   "source": [
    "train"
   ]
  },
  {
   "cell_type": "code",
   "execution_count": 141,
   "metadata": {},
   "outputs": [
    {
     "data": {
      "text/html": [
       "<div>\n",
       "<style scoped>\n",
       "    .dataframe tbody tr th:only-of-type {\n",
       "        vertical-align: middle;\n",
       "    }\n",
       "\n",
       "    .dataframe tbody tr th {\n",
       "        vertical-align: top;\n",
       "    }\n",
       "\n",
       "    .dataframe thead th {\n",
       "        text-align: right;\n",
       "    }\n",
       "</style>\n",
       "<table border=\"1\" class=\"dataframe\">\n",
       "  <thead>\n",
       "    <tr style=\"text-align: right;\">\n",
       "      <th></th>\n",
       "      <th>subject</th>\n",
       "      <th>type</th>\n",
       "    </tr>\n",
       "  </thead>\n",
       "  <tbody>\n",
       "    <tr>\n",
       "      <th>0</th>\n",
       "      <td>052_S_1251</td>\n",
       "      <td>CN</td>\n",
       "    </tr>\n",
       "    <tr>\n",
       "      <th>1</th>\n",
       "      <td>099_S_0534</td>\n",
       "      <td>CN</td>\n",
       "    </tr>\n",
       "    <tr>\n",
       "      <th>2</th>\n",
       "      <td>011_S_0326</td>\n",
       "      <td>MCI</td>\n",
       "    </tr>\n",
       "    <tr>\n",
       "      <th>3</th>\n",
       "      <td>114_S_0374</td>\n",
       "      <td>AD</td>\n",
       "    </tr>\n",
       "    <tr>\n",
       "      <th>4</th>\n",
       "      <td>136_S_0429</td>\n",
       "      <td>MCI</td>\n",
       "    </tr>\n",
       "    <tr>\n",
       "      <th>...</th>\n",
       "      <td>...</td>\n",
       "      <td>...</td>\n",
       "    </tr>\n",
       "    <tr>\n",
       "      <th>110</th>\n",
       "      <td>016_S_0359</td>\n",
       "      <td>CN</td>\n",
       "    </tr>\n",
       "    <tr>\n",
       "      <th>111</th>\n",
       "      <td>023_S_0081</td>\n",
       "      <td>CN</td>\n",
       "    </tr>\n",
       "    <tr>\n",
       "      <th>112</th>\n",
       "      <td>022_S_0096</td>\n",
       "      <td>CN</td>\n",
       "    </tr>\n",
       "    <tr>\n",
       "      <th>113</th>\n",
       "      <td>018_S_0286</td>\n",
       "      <td>AD</td>\n",
       "    </tr>\n",
       "    <tr>\n",
       "      <th>114</th>\n",
       "      <td>027_S_0179</td>\n",
       "      <td>MCI</td>\n",
       "    </tr>\n",
       "  </tbody>\n",
       "</table>\n",
       "<p>115 rows × 2 columns</p>\n",
       "</div>"
      ],
      "text/plain": [
       "        subject type\n",
       "0    052_S_1251   CN\n",
       "1    099_S_0534   CN\n",
       "2    011_S_0326  MCI\n",
       "3    114_S_0374   AD\n",
       "4    136_S_0429  MCI\n",
       "..          ...  ...\n",
       "110  016_S_0359   CN\n",
       "111  023_S_0081   CN\n",
       "112  022_S_0096   CN\n",
       "113  018_S_0286   AD\n",
       "114  027_S_0179  MCI\n",
       "\n",
       "[115 rows x 2 columns]"
      ]
     },
     "execution_count": 141,
     "metadata": {},
     "output_type": "execute_result"
    }
   ],
   "source": [
    "test"
   ]
  },
  {
   "cell_type": "code",
   "execution_count": 142,
   "metadata": {},
   "outputs": [
    {
     "data": {
      "text/plain": [
       "MCI    104\n",
       "CN      94\n",
       "AD      69\n",
       "Name: type, dtype: int64"
      ]
     },
     "execution_count": 142,
     "metadata": {},
     "output_type": "execute_result"
    }
   ],
   "source": [
    "train['type'].value_counts()"
   ]
  },
  {
   "cell_type": "code",
   "execution_count": 143,
   "metadata": {},
   "outputs": [
    {
     "data": {
      "text/plain": [
       "MCI    44\n",
       "CN     41\n",
       "AD     30\n",
       "Name: type, dtype: int64"
      ]
     },
     "execution_count": 143,
     "metadata": {},
     "output_type": "execute_result"
    }
   ],
   "source": [
    "test['type'].value_counts()"
   ]
  },
  {
   "attachments": {},
   "cell_type": "markdown",
   "metadata": {},
   "source": [
    "## Prepare data for FreeSurfer stripper command\n",
    "    for us stripper file format will be:  mri_synthstrip -i input -o stripped --no-csf\n"
   ]
  },
  {
   "cell_type": "code",
   "execution_count": 147,
   "metadata": {},
   "outputs": [],
   "source": [
    "train['input_path'], train['output_path'] = u.create_in_out_paths(train, path, 'train')"
   ]
  },
  {
   "cell_type": "code",
   "execution_count": 149,
   "metadata": {},
   "outputs": [],
   "source": [
    "test['input_path'], test['output_path'] = u.create_in_out_paths(test, path, 'test')"
   ]
  },
  {
   "cell_type": "code",
   "execution_count": 150,
   "metadata": {},
   "outputs": [
    {
     "data": {
      "text/plain": [
       "array(['/Users/toygar/Desktop/Bitirme/data/ADNI/052_S_1251/MPR__GradWarp__B1_Correction__N3__Scaled/2007-08-31_13_15_40.0/I78985/ADNI_052_S_1251_MR_MPR__GradWarp__B1_Correction__N3__Scaled_Br_20071028104401944_S38754_I78985.nii',\n",
       "       '/Users/toygar/Desktop/Bitirme/data/ADNI/099_S_0534/MPR-R__GradWarp__B1_Correction__N3__Scaled/2007-05-23_13_08_56.0/I65464/ADNI_099_S_0534_MR_MPR-R__GradWarp__B1_Correction__N3__Scaled_Br_20070807112330344_S32563_I65464.nii',\n",
       "       '/Users/toygar/Desktop/Bitirme/data/ADNI/011_S_0326/MPR-R__GradWarp__B1_Correction__N3__Scaled/2009-04-06_11_29_26.0/I143475/ADNI_011_S_0326_MR_MPR-R__GradWarp__B1_Correction__N3__Scaled_Br_20090511113001987_S65640_I143475.nii'],\n",
       "      dtype=object)"
      ]
     },
     "execution_count": 150,
     "metadata": {},
     "output_type": "execute_result"
    }
   ],
   "source": [
    "test['input_path'].values[:3]"
   ]
  },
  {
   "cell_type": "code",
   "execution_count": 151,
   "metadata": {},
   "outputs": [
    {
     "data": {
      "text/plain": [
       "array(['/Users/toygar/Desktop/Bitirme/data/test/052_S_1251-2007-08-31.nii',\n",
       "       '/Users/toygar/Desktop/Bitirme/data/test/099_S_0534-2007-05-23.nii',\n",
       "       '/Users/toygar/Desktop/Bitirme/data/test/011_S_0326-2009-04-06.nii'],\n",
       "      dtype=object)"
      ]
     },
     "execution_count": 151,
     "metadata": {},
     "output_type": "execute_result"
    }
   ],
   "source": [
    "test['output_path'].values[:3]"
   ]
  },
  {
   "cell_type": "code",
   "execution_count": 152,
   "metadata": {},
   "outputs": [
    {
     "data": {
      "text/html": [
       "<div>\n",
       "<style scoped>\n",
       "    .dataframe tbody tr th:only-of-type {\n",
       "        vertical-align: middle;\n",
       "    }\n",
       "\n",
       "    .dataframe tbody tr th {\n",
       "        vertical-align: top;\n",
       "    }\n",
       "\n",
       "    .dataframe thead th {\n",
       "        text-align: right;\n",
       "    }\n",
       "</style>\n",
       "<table border=\"1\" class=\"dataframe\">\n",
       "  <thead>\n",
       "    <tr style=\"text-align: right;\">\n",
       "      <th></th>\n",
       "      <th>subject</th>\n",
       "      <th>type</th>\n",
       "      <th>input_path</th>\n",
       "      <th>output_path</th>\n",
       "    </tr>\n",
       "  </thead>\n",
       "  <tbody>\n",
       "    <tr>\n",
       "      <th>0</th>\n",
       "      <td>027_S_0404</td>\n",
       "      <td>AD</td>\n",
       "      <td>/Users/toygar/Desktop/Bitirme/data/ADNI/027_S_...</td>\n",
       "      <td>/Users/toygar/Desktop/Bitirme/data/train/027_S...</td>\n",
       "    </tr>\n",
       "    <tr>\n",
       "      <th>1</th>\n",
       "      <td>022_S_0130</td>\n",
       "      <td>CN</td>\n",
       "      <td>/Users/toygar/Desktop/Bitirme/data/ADNI/022_S_...</td>\n",
       "      <td>/Users/toygar/Desktop/Bitirme/data/train/022_S...</td>\n",
       "    </tr>\n",
       "    <tr>\n",
       "      <th>2</th>\n",
       "      <td>033_S_1098</td>\n",
       "      <td>CN</td>\n",
       "      <td>/Users/toygar/Desktop/Bitirme/data/ADNI/033_S_...</td>\n",
       "      <td>/Users/toygar/Desktop/Bitirme/data/train/033_S...</td>\n",
       "    </tr>\n",
       "    <tr>\n",
       "      <th>3</th>\n",
       "      <td>007_S_0249</td>\n",
       "      <td>MCI</td>\n",
       "      <td>/Users/toygar/Desktop/Bitirme/data/ADNI/007_S_...</td>\n",
       "      <td>/Users/toygar/Desktop/Bitirme/data/train/007_S...</td>\n",
       "    </tr>\n",
       "    <tr>\n",
       "      <th>4</th>\n",
       "      <td>098_S_0172</td>\n",
       "      <td>CN</td>\n",
       "      <td>/Users/toygar/Desktop/Bitirme/data/ADNI/098_S_...</td>\n",
       "      <td>/Users/toygar/Desktop/Bitirme/data/train/098_S...</td>\n",
       "    </tr>\n",
       "    <tr>\n",
       "      <th>...</th>\n",
       "      <td>...</td>\n",
       "      <td>...</td>\n",
       "      <td>...</td>\n",
       "      <td>...</td>\n",
       "    </tr>\n",
       "    <tr>\n",
       "      <th>262</th>\n",
       "      <td>123_S_1300</td>\n",
       "      <td>MCI</td>\n",
       "      <td>/Users/toygar/Desktop/Bitirme/data/ADNI/123_S_...</td>\n",
       "      <td>/Users/toygar/Desktop/Bitirme/data/train/123_S...</td>\n",
       "    </tr>\n",
       "    <tr>\n",
       "      <th>263</th>\n",
       "      <td>037_S_0303</td>\n",
       "      <td>CN</td>\n",
       "      <td>/Users/toygar/Desktop/Bitirme/data/ADNI/037_S_...</td>\n",
       "      <td>/Users/toygar/Desktop/Bitirme/data/train/037_S...</td>\n",
       "    </tr>\n",
       "    <tr>\n",
       "      <th>264</th>\n",
       "      <td>005_S_0221</td>\n",
       "      <td>AD</td>\n",
       "      <td>/Users/toygar/Desktop/Bitirme/data/ADNI/005_S_...</td>\n",
       "      <td>/Users/toygar/Desktop/Bitirme/data/train/005_S...</td>\n",
       "    </tr>\n",
       "    <tr>\n",
       "      <th>265</th>\n",
       "      <td>053_S_0507</td>\n",
       "      <td>MCI</td>\n",
       "      <td>/Users/toygar/Desktop/Bitirme/data/ADNI/053_S_...</td>\n",
       "      <td>/Users/toygar/Desktop/Bitirme/data/train/053_S...</td>\n",
       "    </tr>\n",
       "    <tr>\n",
       "      <th>266</th>\n",
       "      <td>068_S_0473</td>\n",
       "      <td>CN</td>\n",
       "      <td>/Users/toygar/Desktop/Bitirme/data/ADNI/068_S_...</td>\n",
       "      <td>/Users/toygar/Desktop/Bitirme/data/train/068_S...</td>\n",
       "    </tr>\n",
       "  </tbody>\n",
       "</table>\n",
       "<p>267 rows × 4 columns</p>\n",
       "</div>"
      ],
      "text/plain": [
       "        subject type                                         input_path  \\\n",
       "0    027_S_0404   AD  /Users/toygar/Desktop/Bitirme/data/ADNI/027_S_...   \n",
       "1    022_S_0130   CN  /Users/toygar/Desktop/Bitirme/data/ADNI/022_S_...   \n",
       "2    033_S_1098   CN  /Users/toygar/Desktop/Bitirme/data/ADNI/033_S_...   \n",
       "3    007_S_0249  MCI  /Users/toygar/Desktop/Bitirme/data/ADNI/007_S_...   \n",
       "4    098_S_0172   CN  /Users/toygar/Desktop/Bitirme/data/ADNI/098_S_...   \n",
       "..          ...  ...                                                ...   \n",
       "262  123_S_1300  MCI  /Users/toygar/Desktop/Bitirme/data/ADNI/123_S_...   \n",
       "263  037_S_0303   CN  /Users/toygar/Desktop/Bitirme/data/ADNI/037_S_...   \n",
       "264  005_S_0221   AD  /Users/toygar/Desktop/Bitirme/data/ADNI/005_S_...   \n",
       "265  053_S_0507  MCI  /Users/toygar/Desktop/Bitirme/data/ADNI/053_S_...   \n",
       "266  068_S_0473   CN  /Users/toygar/Desktop/Bitirme/data/ADNI/068_S_...   \n",
       "\n",
       "                                           output_path  \n",
       "0    /Users/toygar/Desktop/Bitirme/data/train/027_S...  \n",
       "1    /Users/toygar/Desktop/Bitirme/data/train/022_S...  \n",
       "2    /Users/toygar/Desktop/Bitirme/data/train/033_S...  \n",
       "3    /Users/toygar/Desktop/Bitirme/data/train/007_S...  \n",
       "4    /Users/toygar/Desktop/Bitirme/data/train/098_S...  \n",
       "..                                                 ...  \n",
       "262  /Users/toygar/Desktop/Bitirme/data/train/123_S...  \n",
       "263  /Users/toygar/Desktop/Bitirme/data/train/037_S...  \n",
       "264  /Users/toygar/Desktop/Bitirme/data/train/005_S...  \n",
       "265  /Users/toygar/Desktop/Bitirme/data/train/053_S...  \n",
       "266  /Users/toygar/Desktop/Bitirme/data/train/068_S...  \n",
       "\n",
       "[267 rows x 4 columns]"
      ]
     },
     "execution_count": 152,
     "metadata": {},
     "output_type": "execute_result"
    }
   ],
   "source": [
    "train"
   ]
  },
  {
   "cell_type": "code",
   "execution_count": 153,
   "metadata": {},
   "outputs": [],
   "source": [
    "train.to_csv(os.path.join(path, 'train/train.csv'), index=False)\n",
    "test.to_csv(os.path.join(path, 'test/test.csv'), index=False)"
   ]
  },
  {
   "cell_type": "code",
   "execution_count": null,
   "metadata": {},
   "outputs": [],
   "source": []
  }
 ],
 "metadata": {
  "kernelspec": {
   "display_name": "base",
   "language": "python",
   "name": "python3"
  },
  "language_info": {
   "codemirror_mode": {
    "name": "ipython",
    "version": 3
   },
   "file_extension": ".py",
   "mimetype": "text/x-python",
   "name": "python",
   "nbconvert_exporter": "python",
   "pygments_lexer": "ipython3",
   "version": "3.9.7"
  },
  "orig_nbformat": 4,
  "vscode": {
   "interpreter": {
    "hash": "036778c85436187ccf0576769abf132d07ad2ae14ef86fe4818ff7b09f64e9de"
   }
  }
 },
 "nbformat": 4,
 "nbformat_minor": 2
}
