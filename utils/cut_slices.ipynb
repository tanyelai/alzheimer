{
 "cells": [
  {
   "attachments": {},
   "cell_type": "markdown",
   "metadata": {},
   "source": [
    "# About\n",
    "\n",
    "This code is for removing empty row and columns from the slices."
   ]
  },
  {
   "cell_type": "code",
   "execution_count": 68,
   "metadata": {},
   "outputs": [],
   "source": [
    "import os\n",
    "import numpy as np\n",
    "import pandas as pd\n",
    "import matplotlib.pyplot as plt\n",
    "import matplotlib.image as mpimg\n",
    "from PIL import Image, ImageOps\n"
   ]
  },
  {
   "cell_type": "code",
   "execution_count": 146,
   "metadata": {},
   "outputs": [],
   "source": [
    "class utils:\n",
    "    def __init__(self):\n",
    "        return\n",
    "\n",
    "    ''' Find images in the given main path '''\n",
    "    def retrieve_imglist(self, path):\n",
    "        img_list = []\n",
    "        for root, dirs, files in os.walk(path):\n",
    "            for file in files:\n",
    "                if file.endswith(\".jpg\"):\n",
    "                    img_list.append(os.path.join(root, file))\n",
    "        return img_list\n",
    "\n",
    "\n",
    "    def calculate_edges(self, image, axis):\n",
    "        # axis = 0 -> row, 1 -> col\n",
    "        assert axis in [0,1]\n",
    "        image = np.array(image)\n",
    "        start = None\n",
    "        end = None\n",
    "\n",
    "        if axis == 1:\n",
    "            for i in range(image.shape[axis]):\n",
    "                if np.any(image[:, i] > 25) and start == None:\n",
    "                    start = i\n",
    "                    i = i + 30\n",
    "                elif np.any(image[:, i] > 25):\n",
    "                    end = i\n",
    "        else:\n",
    "            for i in range(image.shape[axis]):\n",
    "                if np.any(image[i, :] > 25) and start == None:\n",
    "                    start = i\n",
    "                    i = i + 30\n",
    "                elif np.any(image[i, :] > 25):\n",
    "                    end = i\n",
    "                \n",
    "        return start, end\n",
    "    \n",
    "    \n",
    "    def expand2square(self, pil_img):\n",
    "        width, height = pil_img.size\n",
    "        if width == height:\n",
    "            return pil_img\n",
    "        elif width > height:\n",
    "            result = Image.new(\"L\", (width, width))\n",
    "            result.paste(pil_img, (0, (width - height) // 2))\n",
    "            return result\n",
    "        else:\n",
    "            result = Image.new(\"L\", (height, height))\n",
    "            result.paste(pil_img, ((height - width) // 2, 0))\n",
    "            return result\n",
    "        \n",
    "    def make_square(self, im):\n",
    "        im_new = self.expand2square(im)\n",
    "        return im_new\n",
    "\n",
    "\n",
    "    def remove_empty_pixels(self, image):\n",
    "    \n",
    "        start_row, end_row = self.calculate_edges(image, 0)\n",
    "        start_col, end_col = self.calculate_edges(image, 1)\n",
    "\n",
    "        return start_row, end_row, start_col, end_col\n",
    "\n",
    "    \n",
    "    def cut(self, path):\n",
    "        image_list = self.retrieve_imglist(path)\n",
    "        for i in range(len(image_list)):\n",
    "            img = mpimg.imread(image_list[i])\n",
    "            start_row, end_row, start_col, end_col = self.remove_empty_pixels(img)\n",
    "            plt.imsave(image_list[i], img[start_row:end_row, start_col:end_col], cmap='gray')\n",
    "\n",
    "    def cut_and_resize(self, path):\n",
    "        image_list = self.retrieve_imglist(path)\n",
    "        for i in range(len(image_list)):\n",
    "            img = mpimg.imread(image_list[i])\n",
    "            start_row, end_row, start_col, end_col = self.remove_empty_pixels(img)\n",
    "            plt.imsave(image_list[i], img[start_row:end_row, start_col:end_col], cmap='gray')\n",
    "       \n",
    "        image_list = self.retrieve_imglist(path)\n",
    "        for i in range(len(image_list)):\n",
    "            img = Image.open(image_list[i]).convert('L')\n",
    "            new_im = self.make_square(img)\n",
    "            plt.imsave(image_list[i], new_im, cmap='gray')\n"
   ]
  },
  {
   "cell_type": "code",
   "execution_count": 147,
   "metadata": {},
   "outputs": [],
   "source": [
    "u = utils()"
   ]
  },
  {
   "cell_type": "code",
   "execution_count": 148,
   "metadata": {},
   "outputs": [],
   "source": [
    "path = '/Users/toygar/Desktop/Bitirme/data/train'\n",
    "u.cut_and_resize(path)"
   ]
  },
  {
   "cell_type": "code",
   "execution_count": 149,
   "metadata": {},
   "outputs": [],
   "source": [
    "path = '/Users/toygar/Desktop/Bitirme/data/val'\n",
    "u.cut_and_resize(path)"
   ]
  },
  {
   "cell_type": "code",
   "execution_count": 150,
   "metadata": {},
   "outputs": [],
   "source": [
    "path = '/Users/toygar/Desktop/Bitirme/data/test'\n",
    "u.cut_and_resize(path)"
   ]
  }
 ],
 "metadata": {
  "kernelspec": {
   "display_name": "base",
   "language": "python",
   "name": "python3"
  },
  "language_info": {
   "codemirror_mode": {
    "name": "ipython",
    "version": 3
   },
   "file_extension": ".py",
   "mimetype": "text/x-python",
   "name": "python",
   "nbconvert_exporter": "python",
   "pygments_lexer": "ipython3",
   "version": "3.9.13"
  },
  "orig_nbformat": 4,
  "vscode": {
   "interpreter": {
    "hash": "036778c85436187ccf0576769abf132d07ad2ae14ef86fe4818ff7b09f64e9de"
   }
  }
 },
 "nbformat": 4,
 "nbformat_minor": 2
}
