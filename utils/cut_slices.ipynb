{
 "cells": [
  {
   "attachments": {},
   "cell_type": "markdown",
   "metadata": {},
   "source": [
    "# About\n",
    "\n",
    "This code is for removing empty row and columns from the slices."
   ]
  },
  {
   "cell_type": "code",
   "execution_count": 1,
   "metadata": {},
   "outputs": [],
   "source": [
    "import os\n",
    "import numpy as np\n",
    "import pandas as pd\n",
    "import matplotlib.pyplot as plt\n",
    "import matplotlib.image as mpimg"
   ]
  },
  {
   "cell_type": "code",
   "execution_count": 2,
   "metadata": {},
   "outputs": [],
   "source": [
    "class utils:\n",
    "    def __init__(self):\n",
    "        return\n",
    "\n",
    "    ''' Find images in the given main path '''\n",
    "    def retrieve_imglist(self, path):\n",
    "        img_list = []\n",
    "        for root, dirs, files in os.walk(path):\n",
    "            for file in files:\n",
    "                if file.endswith(\".jpg\"):\n",
    "                    img_list.append(os.path.join(root, file))\n",
    "        return img_list\n",
    "\n",
    "\n",
    "    def calculate_edges(self, image, axis):\n",
    "        # axis = 0 -> row, 1 -> col\n",
    "        assert axis in [0,1]\n",
    "        image = np.array(image)\n",
    "        start = None\n",
    "\n",
    "        if axis == 1:\n",
    "            for i in range(image.shape[axis]):\n",
    "                if np.any(image[:, i] > 25) and start == None:\n",
    "                    start = i\n",
    "                    i = i + 50\n",
    "                elif np.any(image[:, i] > 25):\n",
    "                    end = i\n",
    "        else:\n",
    "            for i in range(image.shape[axis]):\n",
    "                if np.any(image[i, :] > 25) and start == None:\n",
    "                    start = i\n",
    "                    i = i + 50\n",
    "                elif np.any(image[i, :] > 25):\n",
    "                    end = i\n",
    "                \n",
    "        return start, end\n",
    "\n",
    "\n",
    "    def remove_empty_pixels(self, image):\n",
    "    \n",
    "        start_row, end_row = self.calculate_edges(image, 0)\n",
    "        start_col, end_col = self.calculate_edges(image, 1)\n",
    "\n",
    "        return start_row, end_row, start_col, end_col\n",
    "\n",
    "    \n",
    "    def cut(self, path):\n",
    "\n",
    "        image_list = self.retrieve_imglist(path)\n",
    "        for i in range(len(image_list)):\n",
    "            img = mpimg.imread(image_list[i])\n",
    "            start_row, end_row, start_col, end_col = self.remove_empty_pixels(img)\n",
    "            plt.imsave(image_list[i], img[start_row:end_row, start_col:end_col], cmap='gray')"
   ]
  },
  {
   "cell_type": "code",
   "execution_count": 3,
   "metadata": {},
   "outputs": [],
   "source": [
    "path = '/Users/toygar/Desktop/Bitirme/data/'\n",
    "u = utils()\n",
    "u.cut(path)"
   ]
  }
 ],
 "metadata": {
  "kernelspec": {
   "display_name": "base",
   "language": "python",
   "name": "python3"
  },
  "language_info": {
   "codemirror_mode": {
    "name": "ipython",
    "version": 3
   },
   "file_extension": ".py",
   "mimetype": "text/x-python",
   "name": "python",
   "nbconvert_exporter": "python",
   "pygments_lexer": "ipython3",
   "version": "3.9.13"
  },
  "orig_nbformat": 4,
  "vscode": {
   "interpreter": {
    "hash": "036778c85436187ccf0576769abf132d07ad2ae14ef86fe4818ff7b09f64e9de"
   }
  }
 },
 "nbformat": 4,
 "nbformat_minor": 2
}
