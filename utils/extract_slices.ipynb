{
 "cells": [
  {
   "attachments": {},
   "cell_type": "markdown",
   "metadata": {},
   "source": [
    "# About\n",
    "\n",
    "If 2D analysis also need to be done, this notebook can be used.\n",
    "\n",
    "Main purpose of this notebook is simply retrieving 2D slices from 3D .nii files to utilize for 2D image classification tasks.<br/>\n",
    "-> Find desired slice interval for desired axis for particular subject id.<br/>\n",
    "-> Open 3 more files named AD, CN and MCI to save slices under train, test and val sets.\n",
    "\n",
    "Ultimately, we will have '.jpg', '.png' or even '.pdf' (you can choose desired format) under files in particular format for PyTorch dataset lib is also expected."
   ]
  },
  {
   "cell_type": "code",
   "execution_count": 1,
   "metadata": {},
   "outputs": [],
   "source": [
    "import os\n",
    "from pathlib import Path\n",
    "from nibabel.testing import data_path\n",
    "import nibabel as nib\n",
    "\n",
    "import numpy as np\n",
    "import pandas as pd\n",
    "\n",
    "import matplotlib.pyplot as plt\n",
    "from matplotlib.pyplot import figure"
   ]
  },
  {
   "cell_type": "code",
   "execution_count": 2,
   "metadata": {},
   "outputs": [],
   "source": [
    "class utils:\n",
    "    def __init__(self):\n",
    "        return\n",
    "    \n",
    "\n",
    "    def read_image(self, img_path):\n",
    "        return nib.load(os.path.join(data_path, img_path)).get_fdata()\n",
    "\n",
    "\n",
    "    ''' Find image in the given path '''\n",
    "    def take_mri(self, subject_id, path):\n",
    "        for root, dirs, files in os.walk(path):\n",
    "            for file in files:\n",
    "                if subject_id in file and file.endswith(\".nii\"):\n",
    "                    return os.path.join(root, file)\n",
    "            \n",
    "\n",
    "    # TODO: try to normalize slices if possible\n",
    "    #       .nii file sizes are different.\n",
    "            # 43.5mb : (256, 256, 166)\n",
    "            # 23.6mb : (192, 192, 160)\n",
    "            # 47.2mb : (256, 256, 180) and more different sizes...\n",
    "\n",
    "    def get_slices(self, subject_id, path, dataset, group, axis, region, width, iter, format):\n",
    "\n",
    "        img_path = self.take_mri(subject_id, os.path.join(path, dataset))\n",
    "        img = self.read_image(img_path)\n",
    "\n",
    "        if region == 'mid': ## If iter = 1: slice count = width*2\n",
    "            if (img.shape[0] > 200 or img.shape[1] > 200) and img.shape[2] >= 166:\n",
    "                start = 120 - width; end = 120 + width; sagittal_start = 90 - width; sagittal_end = 90 + width\n",
    "            else:\n",
    "                start = 85 - width; end = 85 + width; sagittal_start = 85 - width; sagittal_end = 85 + width\n",
    "        elif region == 'mid_to_back': ## If iter = 1: slice count = width\n",
    "            if (img.shape[0] > 200 or img.shape[1] > 200) and img.shape[2] >= 166:\n",
    "                start = 120 - width; end = 120; sagittal_start = 90 - width; sagittal_end = 90\n",
    "            else:\n",
    "                start = 80 - width; end = 80; sagittal_start = 80 - width; sagittal_end = 80\n",
    "        else: #mid_to_forward ----> If iter = 1: slice count = width\n",
    "            if (img.shape[0] > 200 or img.shape[1] > 200) and img.shape[2] >= 166:\n",
    "                start = 120; end = 120 + width; sagittal_start = 90; sagittal_end = 90 + width\n",
    "            else:\n",
    "                start = 85; end = 85 + width; sagittal_start = 85; sagittal_end = 85 + width\n",
    "\n",
    "\n",
    "        \n",
    "        for i in range(0, end - start, iter):\n",
    "            if axis == 'axial':\n",
    "                slice = img[start + i,:,:]\n",
    "            elif axis == 'coronal':\n",
    "                slice = img[:,start + i,:]\n",
    "            else:\n",
    "                slice = img[:,:,sagittal_start + i]\n",
    "\n",
    "            save_path = f'{path}/{dataset}/{group}/'\n",
    "            os.makedirs(save_path, 0o755, True)\n",
    "            plt.imsave(f'{save_path}{subject_id}-{axis}Slice{start + i}{format}', slice, cmap='gray')\n",
    "\n",
    "\n",
    "\n",
    "\n",
    "    def run(self, data, path, dataset, axis = 'axial', region = 'mid', width = 5, iter = 1, format = '.jpg'):\n",
    "        assert dataset in ['train', 'test', 'val']\n",
    "        assert format in ['.png', '.jpg', '.pdf']\n",
    "        assert axis in ['axial', 'sagittal', 'coronal', 'all']\n",
    "        assert region in ['mid_to_back', 'mid_to_forward', 'mid']\n",
    "        assert width > 0 and width <= 50 and isinstance(width, int), f\"width greater than 0 and less equal than 50 is expected, got: {width}\"\n",
    "        assert iter > 0 and iter <= 5 and isinstance(iter, int), f\"iter greater than 0 and less equal than 5 is expected, got: {iter}\"\n",
    "        \n",
    "        # DO NOT FORGET THIS RANGE IS NORMALLY -> len(data['subject'])\n",
    "        for i in range(len(data['subject'])):\n",
    "            if axis == 'axial':\n",
    "                self.get_slices(subject_id = data['subject'][i], path = path, dataset = dataset, \n",
    "                    group = data['group'][i], axis = 'axial', region = region, width = width, iter = iter, format = format)\n",
    "            elif axis == 'coronal':\n",
    "                self.get_slices(subject_id = data['subject'][i], path = path, dataset = dataset, \n",
    "                    group = data['group'][i], axis = 'coronal', region = region, width = width, iter = iter, format = format)\n",
    "            elif axis == 'sagittal':\n",
    "                self.get_slices(subject_id = data['subject'][i], path = path, dataset = dataset, \n",
    "                    group = data['group'][i], axis = 'sagittal', region = region, width = width, iter = iter, format = format)\n",
    "            else: # 'all'\n",
    "                self.get_slices(subject_id = data['subject'][i], path = path, dataset = dataset, \n",
    "                    group = data['group'][i], axis = 'axial', region = region, width = width, iter = iter, format = format)\n",
    "                self.get_slices(subject_id = data['subject'][i], path = path, dataset = dataset, \n",
    "                    group = data['group'][i], axis = 'coronal', region = region, width = width, iter = iter, format = format)\n",
    "                self.get_slices(subject_id = data['subject'][i], path = path, dataset = dataset, \n",
    "                    group = data['group'][i], axis = 'sagittal', region = region, width = width, iter = iter, format = format)"
   ]
  },
  {
   "cell_type": "code",
   "execution_count": 3,
   "metadata": {},
   "outputs": [],
   "source": [
    "u = utils()\n",
    "path = '/Users/toygar/Desktop/Bitirme/data/'"
   ]
  },
  {
   "cell_type": "code",
   "execution_count": 4,
   "metadata": {},
   "outputs": [],
   "source": [
    "train = pd.read_csv(os.path.join(path, 'train/train.csv'))\n",
    "val = pd.read_csv(os.path.join(path, 'val/val.csv'))\n",
    "test = pd.read_csv(os.path.join(path, 'test/test.csv'))"
   ]
  },
  {
   "cell_type": "code",
   "execution_count": 66,
   "metadata": {},
   "outputs": [],
   "source": [
    "# u.run(train, path, 'train', axis = 'axial', region='mid', width=5, iter=1, format = '.jpg')\n",
    "# u.run(train, path, 'train', axis = 'coronal', region='mid', width=5, iter=1, format = '.jpg')\n",
    "# u.run(train, path, 'train', axis = 'sagittal', region='mid', width=5, iter=1, format = '.jpg')"
   ]
  },
  {
   "cell_type": "code",
   "execution_count": 5,
   "metadata": {},
   "outputs": [],
   "source": [
    "u.run(train, path, 'train', axis = 'all', region='mid', width=12, iter=4, format = '.jpg')\n",
    "u.run(val, path, 'val', axis = 'all', region='mid', width=12, iter=4, format = '.jpg')\n",
    "u.run(test, path, 'test', axis = 'all', region='mid', width=12, iter=4, format = '.jpg')"
   ]
  }
 ],
 "metadata": {
  "kernelspec": {
   "display_name": "base",
   "language": "python",
   "name": "python3"
  },
  "language_info": {
   "codemirror_mode": {
    "name": "ipython",
    "version": 3
   },
   "file_extension": ".py",
   "mimetype": "text/x-python",
   "name": "python",
   "nbconvert_exporter": "python",
   "pygments_lexer": "ipython3",
   "version": "3.9.13"
  },
  "orig_nbformat": 4,
  "vscode": {
   "interpreter": {
    "hash": "036778c85436187ccf0576769abf132d07ad2ae14ef86fe4818ff7b09f64e9de"
   }
  }
 },
 "nbformat": 4,
 "nbformat_minor": 2
}
