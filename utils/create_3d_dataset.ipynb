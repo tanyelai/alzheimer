{
 "cells": [
  {
   "cell_type": "code",
   "execution_count": 71,
   "metadata": {},
   "outputs": [],
   "source": [
    "import os\n",
    "from pathlib import Path\n",
    "from nibabel.testing import data_path\n",
    "import nibabel as nib\n",
    "\n",
    "import numpy as np\n",
    "import pandas as pd\n",
    "\n",
    "import shutil\n",
    "import matplotlib.pyplot as plt"
   ]
  },
  {
   "cell_type": "code",
   "execution_count": 72,
   "metadata": {},
   "outputs": [],
   "source": [
    "class utils:\n",
    "    def __init__(self):\n",
    "        return\n",
    "    \n",
    "\n",
    "    ''' Find image in the given path '''\n",
    "    def take_mri(self, subject_id, path):\n",
    "        for root, dirs, files in os.walk(path):\n",
    "            for file in files:\n",
    "                if subject_id in file and file.endswith(\".nii\"):\n",
    "                    return os.path.join(root, file)\n",
    "                \n",
    "\n",
    "\n",
    "    def move_mri(self, subject_id, path, dataset, group):\n",
    "        save_path = f'{path}/{dataset}/{group}/'\n",
    "        os.makedirs(save_path, 0o755, True)\n",
    "        if os.path.exists(save_path):\n",
    "            shutil.move(self.take_mri(subject_id, path), save_path)\n",
    "            print(\"File moved successfully.\")\n",
    "\n",
    "\n",
    "    \n",
    "    def create_dataset(self, data, path, dataset):\n",
    "        assert dataset in ['train', 'test', 'val']        \n",
    "       \n",
    "        for i in range(len(data['subject'])):\n",
    "            self.move_mri(subject_id = data['subject'][i], path = path, dataset = dataset, group = data['group'][i])\n",
    "        "
   ]
  },
  {
   "cell_type": "code",
   "execution_count": 73,
   "metadata": {},
   "outputs": [],
   "source": [
    "u = utils()\n",
    "path = '/your_path/data/'"
   ]
  },
  {
   "cell_type": "code",
   "execution_count": 74,
   "metadata": {},
   "outputs": [],
   "source": [
    "train = pd.read_csv(os.path.join(path, 'train/train.csv'))\n",
    "val = pd.read_csv(os.path.join(path, 'val/val.csv'))\n",
    "test = pd.read_csv(os.path.join(path, 'test/test.csv'))"
   ]
  },
  {
   "cell_type": "code",
   "execution_count": null,
   "metadata": {},
   "outputs": [],
   "source": [
    "u.create_dataset(train, path, 'train')\n",
    "u.create_dataset(val, path, 'val')\n",
    "u.create_dataset(test, path, 'test')"
   ]
  }
 ],
 "metadata": {
  "kernelspec": {
   "display_name": "base",
   "language": "python",
   "name": "python3"
  },
  "language_info": {
   "codemirror_mode": {
    "name": "ipython",
    "version": 3
   },
   "file_extension": ".py",
   "mimetype": "text/x-python",
   "name": "python",
   "nbconvert_exporter": "python",
   "pygments_lexer": "ipython3",
   "version": "3.9.13"
  },
  "orig_nbformat": 4
 },
 "nbformat": 4,
 "nbformat_minor": 2
}
